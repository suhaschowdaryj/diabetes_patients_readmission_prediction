{
 "cells": [
  {
   "cell_type": "code",
   "execution_count": null,
   "metadata": {
    "collapsed": true
   },
   "outputs": [],
   "source": [
    "'''Predict hospital readmission probabilites for diabetes patients.\n",
    "I have used python libraries-pandas,numpy and sk-learn to predict the reorder probabilities.\n",
    "a.) Data preprocessing: I have done data preprocessing to clean the data and impute the missing values. \n",
    "For example: The age is given in the format: [10,20). I have used regex operators to extract the age and approximated it to 25.\n",
    "b.) I converted the categorical variables using Lableencoder.\n",
    "c.) It is intersting to note that the data set is unbalanced. The readmitted cases are very less.\n",
    "So I used SMOTE- Synthetic minority over sampling technique to balance the classes. \n",
    "d.) Finally I used random forests to predict the reorder probabilities.  \n",
    "'''"
   ]
  },
  {
   "cell_type": "code",
   "execution_count": 36,
   "metadata": {
    "collapsed": false
   },
   "outputs": [],
   "source": [
    "import pandas as pd\n",
    "import numpy as np\n",
    "from sklearn.preprocessing import LabelEncoder\n",
    "from sklearn.model_selection import train_test_split\n",
    "from sklearn.ensemble import RandomForestClassifier \n",
    "from sklearn.metrics import accuracy_score, confusion_matrix\n",
    "from imblearn.over_sampling import SMOTE"
   ]
  },
  {
   "cell_type": "code",
   "execution_count": 37,
   "metadata": {
    "collapsed": false
   },
   "outputs": [],
   "source": [
    "#load data set\n",
    "data  = pd.read_csv(\"C://Users//jchin//Desktop//data-challenge//data-challenge//training_data.csv\")\n",
    "\n",
    "#data preprocessing - Split the data \n",
    "data1 = data.iloc[:,:21]\n",
    "data2 = data.iloc[:,22:]\n",
    "del data\n",
    "\n",
    "data1.drop(['encounter_id','patient_nbr', 'weight', 'payer_code','medical_specialty'], axis=1, inplace=True)\n",
    "\n",
    "#label encoder to convert categorical variables\n",
    "labelencoder = LabelEncoder()\n",
    "data1['race'] = labelencoder.fit_transform(data1['race'])\n",
    "data1['gender'] = labelencoder.fit_transform(data1['gender'])\n",
    "\n",
    "#Extract age - Approimate age of [a,b) = a+b/2\n",
    "f = lambda x: sum(map(int, x.strip('[]()').split('-')))/2\n",
    "data1.age = data1['age'].apply(f)\n",
    "\n",
    "#label encoder\n",
    "data2 = data2.apply(LabelEncoder().fit_transform)\n",
    "\n",
    "data = pd.concat([data1,data2],axis = 1)\n",
    "\n",
    "\n",
    "# create a function converter to handle missing data\n",
    "def converter(x):\n",
    "    # that, if x is a float or int,\n",
    "    if type(x) is float or type(x) is int :\n",
    "        # just returns it untouched\n",
    "        return x\n",
    "    # but, if not, return -1\n",
    "    else:\n",
    "        return -1\n",
    "    \n",
    "data = data.applymap(converter)\n"
   ]
  },
  {
   "cell_type": "code",
   "execution_count": 38,
   "metadata": {
    "collapsed": false
   },
   "outputs": [],
   "source": [
    "#train test split and Oversampling for undersampled data\n",
    "X_train,X_validation,y_train,y_valiation = train_test_split(data.iloc[:,:-1],data.iloc[:,-1],  test_size=0.1, random_state=42)\n",
    "X_train_resampled, y_train_resampled = SMOTE().fit_sample(X_train, y_train)"
   ]
  },
  {
   "cell_type": "code",
   "execution_count": 39,
   "metadata": {
    "collapsed": false,
    "scrolled": true
   },
   "outputs": [
    {
     "name": "stdout",
     "output_type": "stream",
     "text": [
      "train accuracy: 0.99057922054\n",
      "validation set accuracy: 0.880373372636\n"
     ]
    }
   ],
   "source": [
    "#Random forest classifier including balanced class weight \n",
    "rf = RandomForestClassifier(class_weight=\"balanced_subsample\")\n",
    "rf.fit(X_train_resampled,y_train_resampled)\n",
    "train_acc = accuracy_score(y_train_resampled,rf.predict(X_train_resampled))\n",
    "train_conf = confusion_matrix(y_train_resampled,rf.predict(X_train_resampled))\n",
    "print('train accuracy:',train_acc)\n",
    "print('confusion matri for training data\\n',train_conf)\n",
    "\n",
    "y_predicted = rf.predict(X_validation)\n",
    "valid_acc = accuracy_score(y_predicted,y_valiation)\n",
    "\n",
    "valid_conf = confusion_matrix(y_predicted,y_valiation)\n",
    "print('validation set accuracy:',valid_acc)\n",
    "print('validation set confusion matrix\\n',valid_conf)"
   ]
  },
  {
   "cell_type": "code",
   "execution_count": 40,
   "metadata": {
    "collapsed": true
   },
   "outputs": [],
   "source": [
    "# Test data preparation\n",
    "test_data  = pd.read_csv(\"C://Users//jchin//Desktop//data-challenge//data-challenge//test_data.csv\")\n",
    "\n",
    "#data preprocessing - Split the data \n",
    "encounter_id = test_data.iloc[:,0]\n",
    "t_data1 = test_data.iloc[:,:21]\n",
    "t_data2 = test_data.iloc[:,22:]\n",
    "del test_data\n",
    "\n",
    "t_data1.drop(['encounter_id','patient_nbr', 'weight', 'payer_code','medical_specialty'], axis=1, inplace=True)\n",
    "\n",
    "#label encoder to convert categorical variables\n",
    "labelencoder = LabelEncoder()\n",
    "t_data1['race'] = labelencoder.fit_transform(t_data1['race'])\n",
    "t_data1['gender'] = labelencoder.fit_transform(t_data1['gender'])\n",
    "\n",
    "#Extract age - Approimate age of [a,b) = a+b/2\n",
    "f = lambda x: sum(map(int, x.strip('[]()').split('-')))/2\n",
    "t_data1.age = t_data1['age'].apply(f)\n",
    "\n",
    "#label encoder\n",
    "t_data2 = t_data2.apply(LabelEncoder().fit_transform)\n",
    "\n",
    "test_data = pd.concat([t_data1,t_data2],axis = 1)\n",
    "\n",
    "\n",
    "# create a function converter to handle missing data\n",
    "def converter(x):\n",
    "    # that, if x is a float or int,\n",
    "    if type(x) is float or type(x) is int :\n",
    "        # just returns it untouched\n",
    "        return x\n",
    "    # but, if not, return -1\n",
    "    else:\n",
    "        return -1\n",
    "    \n",
    "test_data = test_data.applymap(converter)\n"
   ]
  },
  {
   "cell_type": "code",
   "execution_count": 41,
   "metadata": {
    "collapsed": false
   },
   "outputs": [],
   "source": [
    "#test data predictions\n",
    "predicted_probailities = rf.predict_proba(test_data)\n",
    "encounter_id = encounter_id[:,np.newaxis]\n",
    "final_pred = np.append(encounter_id,predicted_probailities,axis=1)\n",
    "fp = pd.DataFrame(final_pred)\n",
    "fp.columns = ['encounter_id', 'not_readmitted_probability', 're_admitted_probability']\n",
    "fp.to_csv(\"C://Users//jchin//Desktop//data-challenge//data-challenge//suhas_chowdary.csv\")"
   ]
  }
 ],
 "metadata": {
  "kernelspec": {
   "display_name": "python3.5",
   "language": "python",
   "name": "python3.5"
  },
  "language_info": {
   "codemirror_mode": {
    "name": "ipython",
    "version": 3
   },
   "file_extension": ".py",
   "mimetype": "text/x-python",
   "name": "python",
   "nbconvert_exporter": "python",
   "pygments_lexer": "ipython3",
   "version": "3.6.0"
  }
 },
 "nbformat": 4,
 "nbformat_minor": 2
}
